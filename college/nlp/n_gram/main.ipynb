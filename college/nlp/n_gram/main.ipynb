{
 "cells": [
  {
   "cell_type": "markdown",
   "id": "8d65fec5",
   "metadata": {},
   "source": [
    "# To implement N-gram Language Model.\n",
    "The N-gram model is a probabilistic model to find out the probability of a word occouring after n-1 given words"
   ]
  },
  {
   "cell_type": "code",
   "execution_count": 1,
   "id": "87f839f8",
   "metadata": {},
   "outputs": [
    {
     "name": "stderr",
     "output_type": "stream",
     "text": [
      "[nltk_data] Downloading package punkt to /Users/tushya/nltk_data...\n",
      "[nltk_data]   Package punkt is already up-to-date!\n",
      "[nltk_data] Downloading package punkt_tab to\n",
      "[nltk_data]     /Users/tushya/nltk_data...\n",
      "[nltk_data]   Package punkt_tab is already up-to-date!\n",
      "[nltk_data] Downloading package reuters to /Users/tushya/nltk_data...\n",
      "[nltk_data]   Package reuters is already up-to-date!\n"
     ]
    },
    {
     "data": {
      "text/plain": [
       "True"
      ]
     },
     "execution_count": 1,
     "metadata": {},
     "output_type": "execute_result"
    }
   ],
   "source": [
    "import nltk\n",
    "from nltk import trigrams\n",
    "from nltk.corpus import reuters\n",
    "from collections import defaultdict\n",
    "import random\n",
    "\n",
    "nltk.download(\"punkt\")\n",
    "nltk.download(\"punkt_tab\")\n",
    "nltk.download(\"reuters\")"
   ]
  },
  {
   "cell_type": "markdown",
   "id": "055b980a",
   "metadata": {},
   "source": [
    "Taking corpous from nltk library itself"
   ]
  },
  {
   "cell_type": "code",
   "execution_count": 2,
   "id": "e9cf25ac",
   "metadata": {},
   "outputs": [],
   "source": [
    "text = nltk.word_tokenize(\" \".join(reuters.words()))\n",
    "tri = list(trigrams(text))"
   ]
  },
  {
   "cell_type": "markdown",
   "id": "938725d4",
   "metadata": {},
   "source": [
    "We create a nested dict for our trigram model where (w1,w2) gives use a dict of next words and their possible probabilities"
   ]
  },
  {
   "cell_type": "code",
   "execution_count": 3,
   "id": "93b4c798",
   "metadata": {},
   "outputs": [],
   "source": [
    "model = defaultdict(lambda: defaultdict(lambda: 0))\n",
    "# Getting the raw count\n",
    "for w1, w2, w3 in tri:\n",
    "    model[(w1, w2)][w3] += 1\n",
    "\n",
    "# Converting the count into probability\n",
    "for bi in model:\n",
    "    c = float(sum(model[bi].values()))\n",
    "    for w3 in model[bi]:\n",
    "        model[bi][w3] /= c"
   ]
  },
  {
   "cell_type": "markdown",
   "id": "776018f4",
   "metadata": {},
   "source": [
    "Getting the next most probable word from the model. If we dont have a seen pattern for (w1,w2) we return a random word"
   ]
  },
  {
   "cell_type": "code",
   "execution_count": 4,
   "id": "9f7c68ed",
   "metadata": {},
   "outputs": [],
   "source": [
    "def get_next_word(w1, w2):\n",
    "    next_word_probs = model[(w1, w2)]\n",
    "    if next_word_probs:\n",
    "        return max(next_word_probs, key=next_word_probs.get)\n",
    "    else:\n",
    "        return random.choice(text)"
   ]
  },
  {
   "cell_type": "markdown",
   "id": "1190ba2f",
   "metadata": {},
   "source": [
    "Creating a sentence of length 12 by choosing 2 random words at the start and then creating a sentence out of them"
   ]
  },
  {
   "cell_type": "code",
   "execution_count": null,
   "id": "b791fd3c",
   "metadata": {},
   "outputs": [
    {
     "name": "stdout",
     "output_type": "stream",
     "text": [
      ", place any restrictions on the sale of its common stock . "
     ]
    }
   ],
   "source": [
    "w1 = random.choice(text)\n",
    "w2 = random.choice(text)\n",
    "print(f\"{w1} {w2} \", end=\"\")\n",
    "for i in range(10):\n",
    "    w3 = get_next_word(w1, w2)\n",
    "    w1 = w2\n",
    "    w2 = w3\n",
    "    print(f\"{w3} \", end=\"\")"
   ]
  }
 ],
 "metadata": {
  "kernelspec": {
   "display_name": "nlp",
   "language": "python",
   "name": "python3"
  },
  "language_info": {
   "codemirror_mode": {
    "name": "ipython",
    "version": 3
   },
   "file_extension": ".py",
   "mimetype": "text/x-python",
   "name": "python",
   "nbconvert_exporter": "python",
   "pygments_lexer": "ipython3",
   "version": "3.10.18"
  }
 },
 "nbformat": 4,
 "nbformat_minor": 5
}
