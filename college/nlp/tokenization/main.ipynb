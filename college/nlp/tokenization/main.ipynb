{
 "cells": [
  {
   "cell_type": "markdown",
   "id": "57190fb2",
   "metadata": {},
   "source": [
    "# To implement basic text processing operations like Tokenization, Normalization, Stemming, Lemmatization, Stop words removal, Sentence Segmentation etc. on text document"
   ]
  },
  {
   "cell_type": "code",
   "execution_count": 10,
   "id": "e1b4569d",
   "metadata": {},
   "outputs": [
    {
     "name": "stderr",
     "output_type": "stream",
     "text": [
      "[nltk_data] Downloading package punkt to /Users/tushya/nltk_data...\n",
      "[nltk_data]   Package punkt is already up-to-date!\n"
     ]
    }
   ],
   "source": [
    "import nltk\n",
    "import spacy\n",
    "from nltk.stem import PorterStemmer\n",
    "from rich import print\n",
    "\n",
    "nlp = spacy.load(\"en_core_web_sm\")\n",
    "nltk.download(\"punkt\")\n",
    "stemmer = PorterStemmer()"
   ]
  },
  {
   "cell_type": "markdown",
   "id": "af67082c",
   "metadata": {},
   "source": [
    "## Tokenization\n",
    "Tokenization is the breaking down of large input into smaller and smaller chunks called tokens. These tokens usually represent the words in a sentence. In Tokenization we first break down the Paragrapgh -> Sentences and the Sentences -> Words where these words represent a token"
   ]
  },
  {
   "cell_type": "code",
   "execution_count": 11,
   "id": "5f461b48",
   "metadata": {},
   "outputs": [
    {
     "data": {
      "text/html": [
       "<pre style=\"white-space:pre;overflow-x:auto;line-height:normal;font-family:Menlo,'DejaVu Sans Mono',consolas,'Courier New',monospace\"><span style=\"font-weight: bold\">[</span><span style=\"color: #008000; text-decoration-color: #008000\">'The'</span>, <span style=\"color: #008000; text-decoration-color: #008000\">'rapid'</span>, <span style=\"color: #008000; text-decoration-color: #008000\">'advancement'</span>, <span style=\"color: #008000; text-decoration-color: #008000\">'of'</span>, <span style=\"color: #008000; text-decoration-color: #008000\">'technology'</span>, <span style=\"color: #008000; text-decoration-color: #008000\">'has'</span>, <span style=\"color: #008000; text-decoration-color: #008000\">'transformed'</span>, <span style=\"color: #008000; text-decoration-color: #008000\">'the'</span>, <span style=\"color: #008000; text-decoration-color: #008000\">'way'</span>, <span style=\"color: #008000; text-decoration-color: #008000\">'people'</span><span style=\"font-weight: bold\">]</span>\n",
       "</pre>\n"
      ],
      "text/plain": [
       "\u001b[1m[\u001b[0m\u001b[32m'The'\u001b[0m, \u001b[32m'rapid'\u001b[0m, \u001b[32m'advancement'\u001b[0m, \u001b[32m'of'\u001b[0m, \u001b[32m'technology'\u001b[0m, \u001b[32m'has'\u001b[0m, \u001b[32m'transformed'\u001b[0m, \u001b[32m'the'\u001b[0m, \u001b[32m'way'\u001b[0m, \u001b[32m'people'\u001b[0m\u001b[1m]\u001b[0m\n"
      ]
     },
     "metadata": {},
     "output_type": "display_data"
    }
   ],
   "source": [
    "text = \"The rapid advancement of technology has transformed the way people communicate, work, and learn. Social media platforms allow individuals to share ideas instantly across the globe, but they also raise concerns about privacy and misinformation. At the same time, businesses rely on data-driven decision-making to improve efficiency and customer satisfaction. Education has also shifted significantly, with online learning tools providing access to knowledge for millions of students worldwide. Despite these benefits, challenges such as digital inequality and cybersecurity threats continue to grow, making it important to balance innovation with responsibility.\"\n",
    "doc = nlp(text)\n",
    "tokens = [token.text for token in doc]\n",
    "print(tokens[:10])"
   ]
  },
  {
   "cell_type": "markdown",
   "id": "93dcc31b",
   "metadata": {},
   "source": [
    "## Case Normalization\n",
    "Transforming the case of the document into lowercase for easier processing and lowered complexity"
   ]
  },
  {
   "cell_type": "code",
   "execution_count": 12,
   "id": "73553beb",
   "metadata": {},
   "outputs": [],
   "source": [
    "doc = nlp(text.lower())"
   ]
  },
  {
   "cell_type": "markdown",
   "id": "419389c4",
   "metadata": {},
   "source": [
    "## Stemming\n",
    "Stemming is the process to procuring the stem/root word from a given token by removing all of its affixs. The stem produced might or might not be a word in the dictionary"
   ]
  },
  {
   "cell_type": "code",
   "execution_count": 13,
   "id": "e3083231",
   "metadata": {},
   "outputs": [
    {
     "data": {
      "text/html": [
       "<pre style=\"white-space:pre;overflow-x:auto;line-height:normal;font-family:Menlo,'DejaVu Sans Mono',consolas,'Courier New',monospace\"><span style=\"font-weight: bold\">[</span>\n",
       "    <span style=\"font-weight: bold\">(</span><span style=\"color: #008000; text-decoration-color: #008000\">'The'</span>, <span style=\"color: #008000; text-decoration-color: #008000\">'the'</span><span style=\"font-weight: bold\">)</span>,\n",
       "    <span style=\"font-weight: bold\">(</span><span style=\"color: #008000; text-decoration-color: #008000\">'rapid'</span>, <span style=\"color: #008000; text-decoration-color: #008000\">'rapid'</span><span style=\"font-weight: bold\">)</span>,\n",
       "    <span style=\"font-weight: bold\">(</span><span style=\"color: #008000; text-decoration-color: #008000\">'advancement'</span>, <span style=\"color: #008000; text-decoration-color: #008000\">'advanc'</span><span style=\"font-weight: bold\">)</span>,\n",
       "    <span style=\"font-weight: bold\">(</span><span style=\"color: #008000; text-decoration-color: #008000\">'of'</span>, <span style=\"color: #008000; text-decoration-color: #008000\">'of'</span><span style=\"font-weight: bold\">)</span>,\n",
       "    <span style=\"font-weight: bold\">(</span><span style=\"color: #008000; text-decoration-color: #008000\">'technology'</span>, <span style=\"color: #008000; text-decoration-color: #008000\">'technolog'</span><span style=\"font-weight: bold\">)</span>,\n",
       "    <span style=\"font-weight: bold\">(</span><span style=\"color: #008000; text-decoration-color: #008000\">'has'</span>, <span style=\"color: #008000; text-decoration-color: #008000\">'ha'</span><span style=\"font-weight: bold\">)</span>,\n",
       "    <span style=\"font-weight: bold\">(</span><span style=\"color: #008000; text-decoration-color: #008000\">'transformed'</span>, <span style=\"color: #008000; text-decoration-color: #008000\">'transform'</span><span style=\"font-weight: bold\">)</span>,\n",
       "    <span style=\"font-weight: bold\">(</span><span style=\"color: #008000; text-decoration-color: #008000\">'the'</span>, <span style=\"color: #008000; text-decoration-color: #008000\">'the'</span><span style=\"font-weight: bold\">)</span>,\n",
       "    <span style=\"font-weight: bold\">(</span><span style=\"color: #008000; text-decoration-color: #008000\">'way'</span>, <span style=\"color: #008000; text-decoration-color: #008000\">'way'</span><span style=\"font-weight: bold\">)</span>,\n",
       "    <span style=\"font-weight: bold\">(</span><span style=\"color: #008000; text-decoration-color: #008000\">'people'</span>, <span style=\"color: #008000; text-decoration-color: #008000\">'peopl'</span><span style=\"font-weight: bold\">)</span>\n",
       "<span style=\"font-weight: bold\">]</span>\n",
       "</pre>\n"
      ],
      "text/plain": [
       "\u001b[1m[\u001b[0m\n",
       "    \u001b[1m(\u001b[0m\u001b[32m'The'\u001b[0m, \u001b[32m'the'\u001b[0m\u001b[1m)\u001b[0m,\n",
       "    \u001b[1m(\u001b[0m\u001b[32m'rapid'\u001b[0m, \u001b[32m'rapid'\u001b[0m\u001b[1m)\u001b[0m,\n",
       "    \u001b[1m(\u001b[0m\u001b[32m'advancement'\u001b[0m, \u001b[32m'advanc'\u001b[0m\u001b[1m)\u001b[0m,\n",
       "    \u001b[1m(\u001b[0m\u001b[32m'of'\u001b[0m, \u001b[32m'of'\u001b[0m\u001b[1m)\u001b[0m,\n",
       "    \u001b[1m(\u001b[0m\u001b[32m'technology'\u001b[0m, \u001b[32m'technolog'\u001b[0m\u001b[1m)\u001b[0m,\n",
       "    \u001b[1m(\u001b[0m\u001b[32m'has'\u001b[0m, \u001b[32m'ha'\u001b[0m\u001b[1m)\u001b[0m,\n",
       "    \u001b[1m(\u001b[0m\u001b[32m'transformed'\u001b[0m, \u001b[32m'transform'\u001b[0m\u001b[1m)\u001b[0m,\n",
       "    \u001b[1m(\u001b[0m\u001b[32m'the'\u001b[0m, \u001b[32m'the'\u001b[0m\u001b[1m)\u001b[0m,\n",
       "    \u001b[1m(\u001b[0m\u001b[32m'way'\u001b[0m, \u001b[32m'way'\u001b[0m\u001b[1m)\u001b[0m,\n",
       "    \u001b[1m(\u001b[0m\u001b[32m'people'\u001b[0m, \u001b[32m'peopl'\u001b[0m\u001b[1m)\u001b[0m\n",
       "\u001b[1m]\u001b[0m\n"
      ]
     },
     "metadata": {},
     "output_type": "display_data"
    }
   ],
   "source": [
    "stems = [(token, stemmer.stem(token)) for token in tokens]\n",
    "print(stems[:10])"
   ]
  },
  {
   "cell_type": "markdown",
   "id": "bd179f91",
   "metadata": {},
   "source": [
    "## Lemmatization\n",
    "Lemmatization is the process of converting the stem words that do not have a meaning in the dictionary to acctual root words that hold a meaning in the dictionary"
   ]
  },
  {
   "cell_type": "code",
   "execution_count": 14,
   "id": "74c7561b",
   "metadata": {},
   "outputs": [
    {
     "data": {
      "text/html": [
       "<pre style=\"white-space:pre;overflow-x:auto;line-height:normal;font-family:Menlo,'DejaVu Sans Mono',consolas,'Courier New',monospace\"><span style=\"font-weight: bold\">[</span>\n",
       "    <span style=\"font-weight: bold\">(</span>the, <span style=\"color: #008000; text-decoration-color: #008000\">'the'</span><span style=\"font-weight: bold\">)</span>,\n",
       "    <span style=\"font-weight: bold\">(</span>rapid, <span style=\"color: #008000; text-decoration-color: #008000\">'rapid'</span><span style=\"font-weight: bold\">)</span>,\n",
       "    <span style=\"font-weight: bold\">(</span>advancement, <span style=\"color: #008000; text-decoration-color: #008000\">'advancement'</span><span style=\"font-weight: bold\">)</span>,\n",
       "    <span style=\"font-weight: bold\">(</span>of, <span style=\"color: #008000; text-decoration-color: #008000\">'of'</span><span style=\"font-weight: bold\">)</span>,\n",
       "    <span style=\"font-weight: bold\">(</span>technology, <span style=\"color: #008000; text-decoration-color: #008000\">'technology'</span><span style=\"font-weight: bold\">)</span>,\n",
       "    <span style=\"font-weight: bold\">(</span>has, <span style=\"color: #008000; text-decoration-color: #008000\">'have'</span><span style=\"font-weight: bold\">)</span>,\n",
       "    <span style=\"font-weight: bold\">(</span>transformed, <span style=\"color: #008000; text-decoration-color: #008000\">'transform'</span><span style=\"font-weight: bold\">)</span>,\n",
       "    <span style=\"font-weight: bold\">(</span>the, <span style=\"color: #008000; text-decoration-color: #008000\">'the'</span><span style=\"font-weight: bold\">)</span>,\n",
       "    <span style=\"font-weight: bold\">(</span>way, <span style=\"color: #008000; text-decoration-color: #008000\">'way'</span><span style=\"font-weight: bold\">)</span>,\n",
       "    <span style=\"font-weight: bold\">(</span>people, <span style=\"color: #008000; text-decoration-color: #008000\">'people'</span><span style=\"font-weight: bold\">)</span>\n",
       "<span style=\"font-weight: bold\">]</span>\n",
       "</pre>\n"
      ],
      "text/plain": [
       "\u001b[1m[\u001b[0m\n",
       "    \u001b[1m(\u001b[0mthe, \u001b[32m'the'\u001b[0m\u001b[1m)\u001b[0m,\n",
       "    \u001b[1m(\u001b[0mrapid, \u001b[32m'rapid'\u001b[0m\u001b[1m)\u001b[0m,\n",
       "    \u001b[1m(\u001b[0madvancement, \u001b[32m'advancement'\u001b[0m\u001b[1m)\u001b[0m,\n",
       "    \u001b[1m(\u001b[0mof, \u001b[32m'of'\u001b[0m\u001b[1m)\u001b[0m,\n",
       "    \u001b[1m(\u001b[0mtechnology, \u001b[32m'technology'\u001b[0m\u001b[1m)\u001b[0m,\n",
       "    \u001b[1m(\u001b[0mhas, \u001b[32m'have'\u001b[0m\u001b[1m)\u001b[0m,\n",
       "    \u001b[1m(\u001b[0mtransformed, \u001b[32m'transform'\u001b[0m\u001b[1m)\u001b[0m,\n",
       "    \u001b[1m(\u001b[0mthe, \u001b[32m'the'\u001b[0m\u001b[1m)\u001b[0m,\n",
       "    \u001b[1m(\u001b[0mway, \u001b[32m'way'\u001b[0m\u001b[1m)\u001b[0m,\n",
       "    \u001b[1m(\u001b[0mpeople, \u001b[32m'people'\u001b[0m\u001b[1m)\u001b[0m\n",
       "\u001b[1m]\u001b[0m\n"
      ]
     },
     "metadata": {},
     "output_type": "display_data"
    }
   ],
   "source": [
    "lemmas = [(token, token.lemma_) for token in doc]\n",
    "print(lemmas[:10])"
   ]
  },
  {
   "cell_type": "markdown",
   "id": "6593d1b4",
   "metadata": {},
   "source": [
    "## Stop word removal\n",
    "A lot of our input consists of stop words or words that dont hold much value like articles and punctuations. To increase our processing speed we remove these useless tokens and try to reduce the size of information our model has to process"
   ]
  },
  {
   "cell_type": "code",
   "execution_count": 15,
   "id": "49293212",
   "metadata": {},
   "outputs": [
    {
     "data": {
      "text/html": [
       "<pre style=\"white-space:pre;overflow-x:auto;line-height:normal;font-family:Menlo,'DejaVu Sans Mono',consolas,'Courier New',monospace\"><span style=\"font-weight: bold\">[</span>rapid, advancement, technology, transformed, way, people, communicate, work, learn, social<span style=\"font-weight: bold\">]</span>\n",
       "</pre>\n"
      ],
      "text/plain": [
       "\u001b[1m[\u001b[0mrapid, advancement, technology, transformed, way, people, communicate, work, learn, social\u001b[1m]\u001b[0m\n"
      ]
     },
     "metadata": {},
     "output_type": "display_data"
    }
   ],
   "source": [
    "filtered_tokens = [\n",
    "    token\n",
    "    for token in doc\n",
    "    if token.is_alpha and not token.is_stop and not token.is_punct\n",
    "]\n",
    "print(filtered_tokens[:10])"
   ]
  },
  {
   "cell_type": "markdown",
   "id": "22adac1c",
   "metadata": {},
   "source": [
    "## POS Tagging\n",
    "POS or Parts of Speech Tagging is to tag each of the token according to the type they are for example noun, adverb, adjective etc according to the rules of grammar"
   ]
  },
  {
   "cell_type": "code",
   "execution_count": 16,
   "id": "f1a519ee",
   "metadata": {},
   "outputs": [
    {
     "data": {
      "text/html": [
       "<pre style=\"white-space:pre;overflow-x:auto;line-height:normal;font-family:Menlo,'DejaVu Sans Mono',consolas,'Courier New',monospace\"><span style=\"font-weight: bold\">[</span>\n",
       "    <span style=\"font-weight: bold\">(</span><span style=\"color: #008000; text-decoration-color: #008000\">'rapid'</span>, <span style=\"color: #008000; text-decoration-color: #008000\">'ADJ'</span>, <span style=\"color: #008000; text-decoration-color: #008000\">'JJ'</span><span style=\"font-weight: bold\">)</span>,\n",
       "    <span style=\"font-weight: bold\">(</span><span style=\"color: #008000; text-decoration-color: #008000\">'advancement'</span>, <span style=\"color: #008000; text-decoration-color: #008000\">'NOUN'</span>, <span style=\"color: #008000; text-decoration-color: #008000\">'NN'</span><span style=\"font-weight: bold\">)</span>,\n",
       "    <span style=\"font-weight: bold\">(</span><span style=\"color: #008000; text-decoration-color: #008000\">'technology'</span>, <span style=\"color: #008000; text-decoration-color: #008000\">'NOUN'</span>, <span style=\"color: #008000; text-decoration-color: #008000\">'NN'</span><span style=\"font-weight: bold\">)</span>,\n",
       "    <span style=\"font-weight: bold\">(</span><span style=\"color: #008000; text-decoration-color: #008000\">'transformed'</span>, <span style=\"color: #008000; text-decoration-color: #008000\">'VERB'</span>, <span style=\"color: #008000; text-decoration-color: #008000\">'VBN'</span><span style=\"font-weight: bold\">)</span>,\n",
       "    <span style=\"font-weight: bold\">(</span><span style=\"color: #008000; text-decoration-color: #008000\">'way'</span>, <span style=\"color: #008000; text-decoration-color: #008000\">'NOUN'</span>, <span style=\"color: #008000; text-decoration-color: #008000\">'NN'</span><span style=\"font-weight: bold\">)</span>,\n",
       "    <span style=\"font-weight: bold\">(</span><span style=\"color: #008000; text-decoration-color: #008000\">'people'</span>, <span style=\"color: #008000; text-decoration-color: #008000\">'NOUN'</span>, <span style=\"color: #008000; text-decoration-color: #008000\">'NNS'</span><span style=\"font-weight: bold\">)</span>,\n",
       "    <span style=\"font-weight: bold\">(</span><span style=\"color: #008000; text-decoration-color: #008000\">'communicate'</span>, <span style=\"color: #008000; text-decoration-color: #008000\">'VERB'</span>, <span style=\"color: #008000; text-decoration-color: #008000\">'VBP'</span><span style=\"font-weight: bold\">)</span>,\n",
       "    <span style=\"font-weight: bold\">(</span><span style=\"color: #008000; text-decoration-color: #008000\">'work'</span>, <span style=\"color: #008000; text-decoration-color: #008000\">'NOUN'</span>, <span style=\"color: #008000; text-decoration-color: #008000\">'NN'</span><span style=\"font-weight: bold\">)</span>,\n",
       "    <span style=\"font-weight: bold\">(</span><span style=\"color: #008000; text-decoration-color: #008000\">'learn'</span>, <span style=\"color: #008000; text-decoration-color: #008000\">'VERB'</span>, <span style=\"color: #008000; text-decoration-color: #008000\">'VB'</span><span style=\"font-weight: bold\">)</span>,\n",
       "    <span style=\"font-weight: bold\">(</span><span style=\"color: #008000; text-decoration-color: #008000\">'social'</span>, <span style=\"color: #008000; text-decoration-color: #008000\">'ADJ'</span>, <span style=\"color: #008000; text-decoration-color: #008000\">'JJ'</span><span style=\"font-weight: bold\">)</span>\n",
       "<span style=\"font-weight: bold\">]</span>\n",
       "</pre>\n"
      ],
      "text/plain": [
       "\u001b[1m[\u001b[0m\n",
       "    \u001b[1m(\u001b[0m\u001b[32m'rapid'\u001b[0m, \u001b[32m'ADJ'\u001b[0m, \u001b[32m'JJ'\u001b[0m\u001b[1m)\u001b[0m,\n",
       "    \u001b[1m(\u001b[0m\u001b[32m'advancement'\u001b[0m, \u001b[32m'NOUN'\u001b[0m, \u001b[32m'NN'\u001b[0m\u001b[1m)\u001b[0m,\n",
       "    \u001b[1m(\u001b[0m\u001b[32m'technology'\u001b[0m, \u001b[32m'NOUN'\u001b[0m, \u001b[32m'NN'\u001b[0m\u001b[1m)\u001b[0m,\n",
       "    \u001b[1m(\u001b[0m\u001b[32m'transformed'\u001b[0m, \u001b[32m'VERB'\u001b[0m, \u001b[32m'VBN'\u001b[0m\u001b[1m)\u001b[0m,\n",
       "    \u001b[1m(\u001b[0m\u001b[32m'way'\u001b[0m, \u001b[32m'NOUN'\u001b[0m, \u001b[32m'NN'\u001b[0m\u001b[1m)\u001b[0m,\n",
       "    \u001b[1m(\u001b[0m\u001b[32m'people'\u001b[0m, \u001b[32m'NOUN'\u001b[0m, \u001b[32m'NNS'\u001b[0m\u001b[1m)\u001b[0m,\n",
       "    \u001b[1m(\u001b[0m\u001b[32m'communicate'\u001b[0m, \u001b[32m'VERB'\u001b[0m, \u001b[32m'VBP'\u001b[0m\u001b[1m)\u001b[0m,\n",
       "    \u001b[1m(\u001b[0m\u001b[32m'work'\u001b[0m, \u001b[32m'NOUN'\u001b[0m, \u001b[32m'NN'\u001b[0m\u001b[1m)\u001b[0m,\n",
       "    \u001b[1m(\u001b[0m\u001b[32m'learn'\u001b[0m, \u001b[32m'VERB'\u001b[0m, \u001b[32m'VB'\u001b[0m\u001b[1m)\u001b[0m,\n",
       "    \u001b[1m(\u001b[0m\u001b[32m'social'\u001b[0m, \u001b[32m'ADJ'\u001b[0m, \u001b[32m'JJ'\u001b[0m\u001b[1m)\u001b[0m\n",
       "\u001b[1m]\u001b[0m\n"
      ]
     },
     "metadata": {},
     "output_type": "display_data"
    }
   ],
   "source": [
    "pos_tags = [(token.text, token.pos_, token.tag_) for token in filtered_tokens]\n",
    "print(pos_tags[:10])"
   ]
  },
  {
   "cell_type": "markdown",
   "id": "8795c274",
   "metadata": {},
   "source": [
    "## Noun Chunk Phrases\n",
    "Noun chunks are a series of words that make up a phrase that are extracted from the text. For eg 'social media platforms', etc"
   ]
  },
  {
   "cell_type": "code",
   "execution_count": 17,
   "id": "2dd52ecb",
   "metadata": {},
   "outputs": [
    {
     "data": {
      "text/html": [
       "<pre style=\"white-space:pre;overflow-x:auto;line-height:normal;font-family:Menlo,'DejaVu Sans Mono',consolas,'Courier New',monospace\"><span style=\"font-weight: bold\">[</span>\n",
       "    the rapid advancement,\n",
       "    technology,\n",
       "    the way,\n",
       "    people,\n",
       "    social media platforms,\n",
       "    individuals,\n",
       "    ideas,\n",
       "    the globe,\n",
       "    they,\n",
       "    concerns\n",
       "<span style=\"font-weight: bold\">]</span>\n",
       "</pre>\n"
      ],
      "text/plain": [
       "\u001b[1m[\u001b[0m\n",
       "    the rapid advancement,\n",
       "    technology,\n",
       "    the way,\n",
       "    people,\n",
       "    social media platforms,\n",
       "    individuals,\n",
       "    ideas,\n",
       "    the globe,\n",
       "    they,\n",
       "    concerns\n",
       "\u001b[1m]\u001b[0m\n"
      ]
     },
     "metadata": {},
     "output_type": "display_data"
    }
   ],
   "source": [
    "noun_chunks = [chunk for chunk in doc.noun_chunks]\n",
    "print(noun_chunks[:10])"
   ]
  },
  {
   "cell_type": "markdown",
   "id": "37ff4c0b",
   "metadata": {},
   "source": [
    "## Dependency parsing\n",
    "This is the process of analyzing the grammatical structure of the text, i.e. how the words are related to each other in the text"
   ]
  },
  {
   "cell_type": "code",
   "execution_count": 18,
   "id": "2d89bf03",
   "metadata": {},
   "outputs": [
    {
     "data": {
      "text/html": [
       "<pre style=\"white-space:pre;overflow-x:auto;line-height:normal;font-family:Menlo,'DejaVu Sans Mono',consolas,'Courier New',monospace\"><span style=\"font-weight: bold\">[</span>\n",
       "    <span style=\"font-weight: bold\">(</span><span style=\"color: #008000; text-decoration-color: #008000\">'rapid'</span>, <span style=\"color: #008000; text-decoration-color: #008000\">'amod'</span>, <span style=\"color: #008000; text-decoration-color: #008000\">'advancement'</span><span style=\"font-weight: bold\">)</span>,\n",
       "    <span style=\"font-weight: bold\">(</span><span style=\"color: #008000; text-decoration-color: #008000\">'advancement'</span>, <span style=\"color: #008000; text-decoration-color: #008000\">'nsubj'</span>, <span style=\"color: #008000; text-decoration-color: #008000\">'transformed'</span><span style=\"font-weight: bold\">)</span>,\n",
       "    <span style=\"font-weight: bold\">(</span><span style=\"color: #008000; text-decoration-color: #008000\">'technology'</span>, <span style=\"color: #008000; text-decoration-color: #008000\">'pobj'</span>, <span style=\"color: #008000; text-decoration-color: #008000\">'of'</span><span style=\"font-weight: bold\">)</span>,\n",
       "    <span style=\"font-weight: bold\">(</span><span style=\"color: #008000; text-decoration-color: #008000\">'transformed'</span>, <span style=\"color: #008000; text-decoration-color: #008000\">'ROOT'</span>, <span style=\"color: #008000; text-decoration-color: #008000\">'transformed'</span><span style=\"font-weight: bold\">)</span>,\n",
       "    <span style=\"font-weight: bold\">(</span><span style=\"color: #008000; text-decoration-color: #008000\">'way'</span>, <span style=\"color: #008000; text-decoration-color: #008000\">'dobj'</span>, <span style=\"color: #008000; text-decoration-color: #008000\">'transformed'</span><span style=\"font-weight: bold\">)</span>,\n",
       "    <span style=\"font-weight: bold\">(</span><span style=\"color: #008000; text-decoration-color: #008000\">'people'</span>, <span style=\"color: #008000; text-decoration-color: #008000\">'nsubj'</span>, <span style=\"color: #008000; text-decoration-color: #008000\">'communicate'</span><span style=\"font-weight: bold\">)</span>,\n",
       "    <span style=\"font-weight: bold\">(</span><span style=\"color: #008000; text-decoration-color: #008000\">'communicate'</span>, <span style=\"color: #008000; text-decoration-color: #008000\">'relcl'</span>, <span style=\"color: #008000; text-decoration-color: #008000\">'way'</span><span style=\"font-weight: bold\">)</span>,\n",
       "    <span style=\"font-weight: bold\">(</span><span style=\"color: #008000; text-decoration-color: #008000\">'work'</span>, <span style=\"color: #008000; text-decoration-color: #008000\">'conj'</span>, <span style=\"color: #008000; text-decoration-color: #008000\">'communicate'</span><span style=\"font-weight: bold\">)</span>,\n",
       "    <span style=\"font-weight: bold\">(</span><span style=\"color: #008000; text-decoration-color: #008000\">'learn'</span>, <span style=\"color: #008000; text-decoration-color: #008000\">'conj'</span>, <span style=\"color: #008000; text-decoration-color: #008000\">'work'</span><span style=\"font-weight: bold\">)</span>,\n",
       "    <span style=\"font-weight: bold\">(</span><span style=\"color: #008000; text-decoration-color: #008000\">'social'</span>, <span style=\"color: #008000; text-decoration-color: #008000\">'amod'</span>, <span style=\"color: #008000; text-decoration-color: #008000\">'media'</span><span style=\"font-weight: bold\">)</span>\n",
       "<span style=\"font-weight: bold\">]</span>\n",
       "</pre>\n"
      ],
      "text/plain": [
       "\u001b[1m[\u001b[0m\n",
       "    \u001b[1m(\u001b[0m\u001b[32m'rapid'\u001b[0m, \u001b[32m'amod'\u001b[0m, \u001b[32m'advancement'\u001b[0m\u001b[1m)\u001b[0m,\n",
       "    \u001b[1m(\u001b[0m\u001b[32m'advancement'\u001b[0m, \u001b[32m'nsubj'\u001b[0m, \u001b[32m'transformed'\u001b[0m\u001b[1m)\u001b[0m,\n",
       "    \u001b[1m(\u001b[0m\u001b[32m'technology'\u001b[0m, \u001b[32m'pobj'\u001b[0m, \u001b[32m'of'\u001b[0m\u001b[1m)\u001b[0m,\n",
       "    \u001b[1m(\u001b[0m\u001b[32m'transformed'\u001b[0m, \u001b[32m'ROOT'\u001b[0m, \u001b[32m'transformed'\u001b[0m\u001b[1m)\u001b[0m,\n",
       "    \u001b[1m(\u001b[0m\u001b[32m'way'\u001b[0m, \u001b[32m'dobj'\u001b[0m, \u001b[32m'transformed'\u001b[0m\u001b[1m)\u001b[0m,\n",
       "    \u001b[1m(\u001b[0m\u001b[32m'people'\u001b[0m, \u001b[32m'nsubj'\u001b[0m, \u001b[32m'communicate'\u001b[0m\u001b[1m)\u001b[0m,\n",
       "    \u001b[1m(\u001b[0m\u001b[32m'communicate'\u001b[0m, \u001b[32m'relcl'\u001b[0m, \u001b[32m'way'\u001b[0m\u001b[1m)\u001b[0m,\n",
       "    \u001b[1m(\u001b[0m\u001b[32m'work'\u001b[0m, \u001b[32m'conj'\u001b[0m, \u001b[32m'communicate'\u001b[0m\u001b[1m)\u001b[0m,\n",
       "    \u001b[1m(\u001b[0m\u001b[32m'learn'\u001b[0m, \u001b[32m'conj'\u001b[0m, \u001b[32m'work'\u001b[0m\u001b[1m)\u001b[0m,\n",
       "    \u001b[1m(\u001b[0m\u001b[32m'social'\u001b[0m, \u001b[32m'amod'\u001b[0m, \u001b[32m'media'\u001b[0m\u001b[1m)\u001b[0m\n",
       "\u001b[1m]\u001b[0m\n"
      ]
     },
     "metadata": {},
     "output_type": "display_data"
    }
   ],
   "source": [
    "deps = [(token.text, token.dep_, token.head.text) for token in filtered_tokens]\n",
    "print(deps[:10])"
   ]
  },
  {
   "cell_type": "markdown",
   "id": "e7987213",
   "metadata": {},
   "source": [
    "## Named Entities Recognition\n",
    "Named entities are real word entities which land in a pre-defined catagory like a person or a organization"
   ]
  },
  {
   "cell_type": "code",
   "execution_count": 19,
   "id": "d519656a",
   "metadata": {},
   "outputs": [
    {
     "data": {
      "text/html": [
       "<pre style=\"white-space:pre;overflow-x:auto;line-height:normal;font-family:Menlo,'DejaVu Sans Mono',consolas,'Courier New',monospace\"><span style=\"font-weight: bold\">[(</span><span style=\"color: #008000; text-decoration-color: #008000\">'millions'</span>, <span style=\"color: #008000; text-decoration-color: #008000\">'CARDINAL'</span><span style=\"font-weight: bold\">)]</span>\n",
       "</pre>\n"
      ],
      "text/plain": [
       "\u001b[1m[\u001b[0m\u001b[1m(\u001b[0m\u001b[32m'millions'\u001b[0m, \u001b[32m'CARDINAL'\u001b[0m\u001b[1m)\u001b[0m\u001b[1m]\u001b[0m\n"
      ]
     },
     "metadata": {},
     "output_type": "display_data"
    }
   ],
   "source": [
    "entities = [(ent.text, ent.label_) for ent in doc.ents]\n",
    "print(entities[:10])"
   ]
  }
 ],
 "metadata": {
  "kernelspec": {
   "display_name": "nlp",
   "language": "python",
   "name": "python3"
  },
  "language_info": {
   "codemirror_mode": {
    "name": "ipython",
    "version": 3
   },
   "file_extension": ".py",
   "mimetype": "text/x-python",
   "name": "python",
   "nbconvert_exporter": "python",
   "pygments_lexer": "ipython3",
   "version": "3.10.18"
  }
 },
 "nbformat": 4,
 "nbformat_minor": 5
}
